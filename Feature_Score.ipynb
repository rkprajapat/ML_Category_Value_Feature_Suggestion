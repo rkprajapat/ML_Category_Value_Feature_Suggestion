{
  "nbformat": 4,
  "nbformat_minor": 0,
  "metadata": {
    "colab": {
      "name": "Feature Score",
      "provenance": [],
      "collapsed_sections": []
    },
    "kernelspec": {
      "name": "python3",
      "display_name": "Python 3"
    },
    "language_info": {
      "name": "python"
    }
  },
  "cells": [
    {
      "cell_type": "markdown",
      "metadata": {
        "id": "fxOQcsM151re"
      },
      "source": [
        "Below Code calculates a feature score based on the feedback data for categorical field values. It is very similar to WOE and IV but with custom implementation. It provide a sample graph and table that recommend if a field value is suitable to be used as a feature."
      ]
    },
    {
      "cell_type": "code",
      "metadata": {
        "id": "ROfNXLTSBAE_"
      },
      "source": [
        "import pandas as pd\n",
        "import seaborn as sns\n",
        "import matplotlib.pyplot as plt\n",
        "from IPython.display import clear_output, display\n",
        "\n",
        "clear_output()\n",
        "\n",
        "\n",
        "# This function expects target column values to be in 0/1 format\n",
        "# criticality is when a value has >= % min_criticality of counts in data\n",
        "# certainty is when a value has >= % min_criticality difference between target counts\n",
        "def cat_value_significance(df, cat_column, target_column, min_criticality=5, min_certainty=60):\n",
        "  df1 = df.groupby(by=[cat_column,target_column]).size().reset_index(name=\"count\")\n",
        "  df1['count'] = df1['count'].astype(int)\n",
        "\n",
        "  diff_df = df1[df1[target_column]==1].merge(df1[df1[target_column]==0], on=[cat_column], how=\"outer\", suffixes=['_1','_0'])\n",
        "  diff_df.fillna(0, inplace=True)\n",
        "  diff_df.drop(columns=[target_column+\"_0\", target_column+\"_1\"], inplace=True)\n",
        "  \n",
        "\n",
        "  diff_df['Criticality'] = ((diff_df['count_0'] + diff_df['count_1'])/len(df))*100\n",
        "  # diff_df[['count_1','count_0']].max(axis=1)\n",
        "  diff_df['Certainty'] = (abs(diff_df['count_1'] - diff_df['count_0'])/(diff_df['count_0']+diff_df['count_1']))*100\n",
        "    \n",
        "  critical_values = diff_df[diff_df['Criticality'] >= min_criticality][cat_column].tolist()\n",
        "  certain_values = diff_df[(diff_df['Certainty'] >= min_certainty) & (diff_df['Criticality'] >= min_criticality)][cat_column].tolist()\n",
        "  \n",
        "  \n",
        "  plt.figure(figsize=(8,2))\n",
        "  critical_df = df[df[cat_column].isin(critical_values)]\n",
        "  g = sns.displot(data=critical_df, x=cat_column, hue=target_column, multiple=\"stack\")\n",
        "  g.set_xticklabels(rotation=90)\n",
        "  display(g)\n",
        "\n",
        "  # certain_df = df[df[cat_column].isin(certain_values)]\n",
        "  # g = sns.displot(data=certain_df, x=cat_column, hue=target_column, kind=\"ecdf\", )\n",
        "  # g.set_xticklabels(rotation=90)\n",
        "  # display(g)\n",
        "\n",
        "  result = diff_df[diff_df[cat_column].isin(critical_values)]\n",
        "  result['Focus'] = result.apply(lambda x: 'Risky' if x['count_1'] > x['count_0'] else 'Not Risky', axis=1)\n",
        "  result['Feature Value Score'] = (result['Certainty'] * result['Criticality'])/100\n",
        "  result = result.sort_values(by=['Feature Value Score'])\n",
        "  result['Possible Feature'] = result['Feature Value Score'].apply(lambda x: True if x >= 5 else False)\n",
        "  result['Feature Score'] = result[result['Possible Feature']==True]['Feature Value Score'].sum()/len(result)\n",
        "  result.rename(columns={'Certainty':'Certainty(%)', 'Criticality':'Criticality(%)'}, inplace=True)\n",
        "  clear_output()\n",
        "\n",
        "  display(result)"
      ],
      "execution_count": null,
      "outputs": []
    },
    {
      "cell_type": "code",
      "metadata": {
        "id": "IHLoQcNbB5MP"
      },
      "source": [
        "cat_value_significance(input_df, 'column name', 'target column name')"
      ],
      "execution_count": null,
      "outputs": []
    }
  ]
}